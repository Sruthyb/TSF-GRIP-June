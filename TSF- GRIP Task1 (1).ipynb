{
 "cells": [
  {
   "cell_type": "markdown",
   "id": "ea6eda7b",
   "metadata": {},
   "source": [
    "### Author : SRUTHY B\n",
    "### Batch : GRIP-JUNE 2022"
   ]
  },
  {
   "cell_type": "markdown",
   "id": "9a90d27a",
   "metadata": {},
   "source": [
    "## Task -1 : Prediction using Supervised Machine Learning\n",
    "### In this task, based on the number of study hours i tried to predict the percentage of marks scored by a student using Regression algorithm."
   ]
  },
  {
   "cell_type": "code",
   "execution_count": 1,
   "id": "171a6faa",
   "metadata": {},
   "outputs": [],
   "source": [
    "# importing necessary libraries\n",
    "import pandas as pd\n",
    "import numpy as np\n",
    "\n",
    "#importing libraries for visualization\n",
    "import seaborn as sns\n",
    "import matplotlib.pyplot as plt\n",
    "\n",
    "#importing Scikit-Learn libraries\n",
    "from sklearn.linear_model import LinearRegression\n",
    "from sklearn.metrics import mean_squared_error\n",
    "from sklearn.metrics import r2_score\n",
    "\n",
    "# Ignoring warnings\n",
    "import warnings\n",
    "warnings.filterwarnings(\"ignore\")\n",
    "\n",
    "sns.set_theme(style=\"darkgrid\")"
   ]
  },
  {
   "cell_type": "code",
   "execution_count": 2,
   "id": "effc8277",
   "metadata": {},
   "outputs": [
    {
     "name": "stdout",
     "output_type": "stream",
     "text": [
      "Data imported successfully\n"
     ]
    },
    {
     "data": {
      "text/html": [
       "<div>\n",
       "<style scoped>\n",
       "    .dataframe tbody tr th:only-of-type {\n",
       "        vertical-align: middle;\n",
       "    }\n",
       "\n",
       "    .dataframe tbody tr th {\n",
       "        vertical-align: top;\n",
       "    }\n",
       "\n",
       "    .dataframe thead th {\n",
       "        text-align: right;\n",
       "    }\n",
       "</style>\n",
       "<table border=\"1\" class=\"dataframe\">\n",
       "  <thead>\n",
       "    <tr style=\"text-align: right;\">\n",
       "      <th></th>\n",
       "      <th>Hours</th>\n",
       "      <th>Scores</th>\n",
       "    </tr>\n",
       "  </thead>\n",
       "  <tbody>\n",
       "    <tr>\n",
       "      <th>0</th>\n",
       "      <td>2.5</td>\n",
       "      <td>21</td>\n",
       "    </tr>\n",
       "    <tr>\n",
       "      <th>1</th>\n",
       "      <td>5.1</td>\n",
       "      <td>47</td>\n",
       "    </tr>\n",
       "    <tr>\n",
       "      <th>2</th>\n",
       "      <td>3.2</td>\n",
       "      <td>27</td>\n",
       "    </tr>\n",
       "    <tr>\n",
       "      <th>3</th>\n",
       "      <td>8.5</td>\n",
       "      <td>75</td>\n",
       "    </tr>\n",
       "    <tr>\n",
       "      <th>4</th>\n",
       "      <td>3.5</td>\n",
       "      <td>30</td>\n",
       "    </tr>\n",
       "  </tbody>\n",
       "</table>\n",
       "</div>"
      ],
      "text/plain": [
       "   Hours  Scores\n",
       "0    2.5      21\n",
       "1    5.1      47\n",
       "2    3.2      27\n",
       "3    8.5      75\n",
       "4    3.5      30"
      ]
     },
     "execution_count": 2,
     "metadata": {},
     "output_type": "execute_result"
    }
   ],
   "source": [
    "#Reading dataset from remote link to python environment\n",
    "data = 'http://bit.ly/w-data'\n",
    "df = pd.read_csv(data)\n",
    "print(\"Data imported successfully\")\n",
    "df.head()"
   ]
  },
  {
   "cell_type": "markdown",
   "id": "f152088b",
   "metadata": {},
   "source": [
    "## *Data exploration*"
   ]
  },
  {
   "cell_type": "code",
   "execution_count": 3,
   "id": "45883b64",
   "metadata": {},
   "outputs": [
    {
     "name": "stdout",
     "output_type": "stream",
     "text": [
      "<class 'pandas.core.frame.DataFrame'>\n",
      "RangeIndex: 25 entries, 0 to 24\n",
      "Data columns (total 2 columns):\n",
      " #   Column  Non-Null Count  Dtype  \n",
      "---  ------  --------------  -----  \n",
      " 0   Hours   25 non-null     float64\n",
      " 1   Scores  25 non-null     int64  \n",
      "dtypes: float64(1), int64(1)\n",
      "memory usage: 528.0 bytes\n"
     ]
    }
   ],
   "source": [
    "df.info()"
   ]
  },
  {
   "cell_type": "markdown",
   "id": "1aed9e0a",
   "metadata": {},
   "source": [
    " - There are two columns with 25 entries containing float and integer data types.\n",
    " - There are no missing values in the given dataset.\n",
    " - Target column is 'Scores' and 'Hours' is feature."
   ]
  },
  {
   "cell_type": "code",
   "execution_count": 4,
   "id": "0cce9880",
   "metadata": {},
   "outputs": [
    {
     "data": {
      "image/png": "[encoded data removed]",
      "text/plain": [
       "<Figure size 432x288 with 1 Axes>"
      ]
     },
     "metadata": {},
     "output_type": "display_data"
    }
   ],
   "source": [
    "#plotting graphs to check for correlation\n",
    "plt.title('Hours Vs Percentage of Scores') \n",
    "sns.regplot(x = \"Scores\", y = \"Hours\", data = df)\n",
    "plt.show()"
   ]
  },
  {
   "cell_type": "code",
   "execution_count": 5,
   "id": "457b1f36",
   "metadata": {},
   "outputs": [
    {
     "data": {
      "image/png": "[encoded data removed]",
      "text/plain": [
       "<Figure size 432x288 with 2 Axes>"
      ]
     },
     "metadata": {},
     "output_type": "display_data"
    }
   ],
   "source": [
    "ax = sns.heatmap(df.corr(), annot=True)"
   ]
  },
  {
   "cell_type": "markdown",
   "id": "f3ecd0db",
   "metadata": {},
   "source": [
    "#### Remarks: From above graphs a strong positive correlation is observed for variables; 'scores' and 'hours' with correlation coeficient 0.98."
   ]
  },
  {
   "cell_type": "markdown",
   "id": "04accf93",
   "metadata": {},
   "source": [
    "## *Data preparation*"
   ]
  },
  {
   "cell_type": "markdown",
   "id": "4087aaca",
   "metadata": {},
   "source": [
    "### Seperating Data into target('Scores') and features('Hours')"
   ]
  },
  {
   "cell_type": "code",
   "execution_count": 6,
   "id": "6b406d32",
   "metadata": {},
   "outputs": [],
   "source": [
    "x = df.drop(['Scores'],axis=1)\n",
    "y = df['Scores']"
   ]
  },
  {
   "cell_type": "code",
   "execution_count": 7,
   "id": "5dc69e8e",
   "metadata": {},
   "outputs": [],
   "source": [
    "#splitting into train and test data\n",
    "from sklearn.model_selection import train_test_split\n",
    "x_train,x_test,y_train,y_test = train_test_split(x,y,random_state=0,test_size=0.2)"
   ]
  },
  {
   "cell_type": "code",
   "execution_count": 8,
   "id": "42c25383",
   "metadata": {},
   "outputs": [
    {
     "data": {
      "text/plain": [
       "((20, 1), (20,))"
      ]
     },
     "execution_count": 8,
     "metadata": {},
     "output_type": "execute_result"
    }
   ],
   "source": [
    "x_train.shape,y_train.shape"
   ]
  },
  {
   "cell_type": "code",
   "execution_count": 9,
   "id": "e4e31716",
   "metadata": {},
   "outputs": [
    {
     "data": {
      "text/plain": [
       "((5, 1), (5,))"
      ]
     },
     "execution_count": 9,
     "metadata": {},
     "output_type": "execute_result"
    }
   ],
   "source": [
    "x_test.shape, y_test.shape"
   ]
  },
  {
   "cell_type": "markdown",
   "id": "660a55b3",
   "metadata": {},
   "source": [
    "## *Training Model*"
   ]
  },
  {
   "cell_type": "code",
   "execution_count": 10,
   "id": "8102ea1f",
   "metadata": {},
   "outputs": [
    {
     "name": "stdout",
     "output_type": "stream",
     "text": [
      "Training completed\n"
     ]
    }
   ],
   "source": [
    "#creating an instance\n",
    "lR_model = LinearRegression()\n",
    "\n",
    "#fitting model to training data\n",
    "lR_model.fit(x_train,y_train)\n",
    "print(\"Training completed\")"
   ]
  },
  {
   "cell_type": "code",
   "execution_count": 11,
   "id": "0ec0efe3",
   "metadata": {},
   "outputs": [
    {
     "data": {
      "image/png": "[encoded data removed]",
      "text/plain": [
       "<Figure size 432x288 with 1 Axes>"
      ]
     },
     "metadata": {},
     "output_type": "display_data"
    }
   ],
   "source": [
    "# Plotting the regression line\n",
    "line = lR_model.coef_*x+lR_model.intercept_\n",
    "\n",
    "# Plotting for the test data\n",
    "plt.scatter(x, y)\n",
    "plt.plot(x, line, c='red');\n",
    "plt.show()"
   ]
  },
  {
   "cell_type": "markdown",
   "id": "63edeccf",
   "metadata": {},
   "source": [
    "## *Prediction on test data*"
   ]
  },
  {
   "cell_type": "code",
   "execution_count": 12,
   "id": "34b734cd",
   "metadata": {},
   "outputs": [
    {
     "name": "stdout",
     "output_type": "stream",
     "text": [
      "    Hours\n",
      "5     1.5\n",
      "2     3.2\n",
      "19    7.4\n",
      "16    2.5\n",
      "11    5.9\n"
     ]
    }
   ],
   "source": [
    "print(x_test)\n",
    "y_pred = lR_model.predict(x_test)"
   ]
  },
  {
   "cell_type": "code",
   "execution_count": 13,
   "id": "386da312",
   "metadata": {},
   "outputs": [
    {
     "data": {
      "text/html": [
       "<div>\n",
       "<style scoped>\n",
       "    .dataframe tbody tr th:only-of-type {\n",
       "        vertical-align: middle;\n",
       "    }\n",
       "\n",
       "    .dataframe tbody tr th {\n",
       "        vertical-align: top;\n",
       "    }\n",
       "\n",
       "    .dataframe thead th {\n",
       "        text-align: right;\n",
       "    }\n",
       "</style>\n",
       "<table border=\"1\" class=\"dataframe\">\n",
       "  <thead>\n",
       "    <tr style=\"text-align: right;\">\n",
       "      <th></th>\n",
       "      <th>Actual</th>\n",
       "      <th>Predicted</th>\n",
       "    </tr>\n",
       "  </thead>\n",
       "  <tbody>\n",
       "    <tr>\n",
       "      <th>5</th>\n",
       "      <td>20</td>\n",
       "      <td>16.884145</td>\n",
       "    </tr>\n",
       "    <tr>\n",
       "      <th>2</th>\n",
       "      <td>27</td>\n",
       "      <td>33.732261</td>\n",
       "    </tr>\n",
       "    <tr>\n",
       "      <th>19</th>\n",
       "      <td>69</td>\n",
       "      <td>75.357018</td>\n",
       "    </tr>\n",
       "    <tr>\n",
       "      <th>16</th>\n",
       "      <td>30</td>\n",
       "      <td>26.794801</td>\n",
       "    </tr>\n",
       "    <tr>\n",
       "      <th>11</th>\n",
       "      <td>62</td>\n",
       "      <td>60.491033</td>\n",
       "    </tr>\n",
       "  </tbody>\n",
       "</table>\n",
       "</div>"
      ],
      "text/plain": [
       "    Actual  Predicted\n",
       "5       20  16.884145\n",
       "2       27  33.732261\n",
       "19      69  75.357018\n",
       "16      30  26.794801\n",
       "11      62  60.491033"
      ]
     },
     "execution_count": 13,
     "metadata": {},
     "output_type": "execute_result"
    }
   ],
   "source": [
    "#Comparing Actual vs Predicted values\n",
    "result = pd.DataFrame({'Actual': y_test, 'Predicted': y_pred})  \n",
    "result"
   ]
  },
  {
   "cell_type": "markdown",
   "id": "2ef40a1b",
   "metadata": {},
   "source": [
    "### *The predicted score if a student studies for 9.25 hrs/day?*"
   ]
  },
  {
   "cell_type": "code",
   "execution_count": 14,
   "id": "2bd6091f",
   "metadata": {},
   "outputs": [
    {
     "name": "stdout",
     "output_type": "stream",
     "text": [
      "Number of study hours:  9.25\n",
      "Predicted percentage of score: [93.69173249]\n"
     ]
    }
   ],
   "source": [
    "#testing with the 9.25 hrs as input value\n",
    "num_of_hours = 9.25\n",
    "sample = np.array([num_of_hours])\n",
    "a = sample.reshape(1,-1)\n",
    "predicted_score = lR_model.predict(a)\n",
    "print(\"Number of study hours: \", num_of_hours)\n",
    "print(\"Predicted percentage of score:\",predicted_score)"
   ]
  },
  {
   "cell_type": "code",
   "execution_count": 15,
   "id": "86a5aae2",
   "metadata": {},
   "outputs": [
    {
     "name": "stdout",
     "output_type": "stream",
     "text": [
      "93.69\n"
     ]
    }
   ],
   "source": [
    "predicted_score = round(93.69173249, 2)\n",
    "print(predicted_score)"
   ]
  },
  {
   "cell_type": "code",
   "execution_count": 16,
   "id": "bd088319",
   "metadata": {},
   "outputs": [
    {
     "name": "stdout",
     "output_type": "stream",
     "text": [
      "The predicted score if a student studies for 9.25 hrs/day = 93.69\n"
     ]
    }
   ],
   "source": [
    "print('The predicted score if a student studies for 9.25 hrs/day =' , predicted_score)"
   ]
  },
  {
   "cell_type": "markdown",
   "id": "6ea21f16",
   "metadata": {},
   "source": [
    "## *Model Evaluation*"
   ]
  },
  {
   "cell_type": "code",
   "execution_count": 17,
   "id": "4e6e4b52",
   "metadata": {},
   "outputs": [
    {
     "name": "stdout",
     "output_type": "stream",
     "text": [
      "MSE value : 21.5987693072174\n",
      "R2 value: 0.9454906892105356\n"
     ]
    }
   ],
   "source": [
    "print('MSE value :', mean_squared_error(y_test,y_pred))\n",
    "print('R2 value:', r2_score(y_test,y_pred))"
   ]
  },
  {
   "cell_type": "markdown",
   "id": "3cef57bc",
   "metadata": {},
   "source": [
    "R- square value is 0.94 which indicates good model."
   ]
  },
  {
   "cell_type": "markdown",
   "id": "bf942c6d",
   "metadata": {},
   "source": [
    "## Conclusion\n",
    "By this task, i was able to make predictions using supervised learning algorithm and able to evaluate the model based on different parameters."
   ]
  },
  {
   "cell_type": "markdown",
   "id": "34055a64",
   "metadata": {},
   "source": [
    "## Thank you"
   ]
  }
 ],
 "metadata": {
  "kernelspec": {
   "display_name": "Python 3 (ipykernel)",
   "language": "python",
   "name": "python3"
  },
  "language_info": {
   "codemirror_mode": {
    "name": "ipython",
    "version": 3
   },
   "file_extension": ".py",
   "mimetype": "text/x-python",
   "name": "python",
   "nbconvert_exporter": "python",
   "pygments_lexer": "ipython3",
   "version": "3.9.7"
  }
 },
 "nbformat": 4,
 "nbformat_minor": 5
}
